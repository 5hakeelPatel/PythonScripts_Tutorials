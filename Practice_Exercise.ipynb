{
  "nbformat": 4,
  "nbformat_minor": 0,
  "metadata": {
    "kernelspec": {
      "display_name": "Python 3",
      "language": "python",
      "name": "python3"
    },
    "language_info": {
      "codemirror_mode": {
        "name": "ipython",
        "version": 3
      },
      "file_extension": ".py",
      "mimetype": "text/x-python",
      "name": "python",
      "nbconvert_exporter": "python",
      "pygments_lexer": "ipython3",
      "version": "3.7.3"
    },
    "colab": {
      "name": "Practice_Exercise.ipynb",
      "provenance": [],
      "include_colab_link": true
    }
  },
  "cells": [
    {
      "cell_type": "markdown",
      "metadata": {
        "id": "view-in-github",
        "colab_type": "text"
      },
      "source": [
        "<a href=\"https://colab.research.google.com/github/5hakeelPatel/PythonScripts_Tutorials/blob/main/Practice_Exercise.ipynb\" target=\"_parent\"><img src=\"https://colab.research.google.com/assets/colab-badge.svg\" alt=\"Open In Colab\"/></a>"
      ]
    },
    {
      "cell_type": "code",
      "metadata": {
        "id": "4vWv5DW1hflR"
      },
      "source": [
        "#Consider the string given below and answer the following questions \n",
        "string = \"OQYWFClFhFGAvIWYwGKpmZhnJiyzTslSIhSwvOsqJMEphzmifTkyqOMNpnOtXZxmCfgDYqbaBHAUvIWhMnvwZnEMVDvmEfLrDoQnAZgQEgXQVnmSYkfedpAdhrtpOgORpYLRZYGWdhWYuqQssCUXtTzKRDAhpjUheOzUroZNzWFtZOVwIapzUYtbSbjYNErzQ\"\n"
      ],
      "execution_count": 1,
      "outputs": []
    },
    {
      "cell_type": "markdown",
      "metadata": {
        "id": "MHYGL-xChflT"
      },
      "source": [
        "####  Calculate the number of characters in the string\n",
        "\n",
        "-  193\n",
        "-  200\n",
        "-  300\n",
        "-  500\n"
      ]
    },
    {
      "cell_type": "code",
      "metadata": {
        "id": "xxn-FU18hflU",
        "outputId": "94fc2064-36da-4813-e3ad-eae2319bc5a7",
        "colab": {
          "base_uri": "https://localhost:8080/"
        }
      },
      "source": [
        "# Type your code here\n",
        "len(string)"
      ],
      "execution_count": 3,
      "outputs": [
        {
          "output_type": "execute_result",
          "data": {
            "text/plain": [
              "193"
            ]
          },
          "metadata": {
            "tags": []
          },
          "execution_count": 3
        }
      ]
    },
    {
      "cell_type": "markdown",
      "metadata": {
        "id": "V5OsPwMthflU"
      },
      "source": [
        "#### Count the number of occurences of 'a' in the string\n",
        "\n",
        "-  1\n",
        "-  2\n",
        "-  10\n",
        "-  5"
      ]
    },
    {
      "cell_type": "code",
      "metadata": {
        "id": "5BvXjAsShflV",
        "outputId": "7c7e6d57-d7bd-4079-cdb9-9f0beadfc157",
        "colab": {
          "base_uri": "https://localhost:8080/"
        }
      },
      "source": [
        "string.count('a')"
      ],
      "execution_count": 4,
      "outputs": [
        {
          "output_type": "execute_result",
          "data": {
            "text/plain": [
              "2"
            ]
          },
          "metadata": {
            "tags": []
          },
          "execution_count": 4
        }
      ]
    },
    {
      "cell_type": "markdown",
      "metadata": {
        "id": "qzBF_GWqhflW"
      },
      "source": [
        "#### Identify whether the string starts with 'if'.\n",
        "\n",
        "-  True\n",
        "-  False"
      ]
    },
    {
      "cell_type": "code",
      "metadata": {
        "id": "ioybJIfThflX",
        "outputId": "74c09741-5ba3-40f0-a7b2-2147692dc6a3",
        "colab": {
          "base_uri": "https://localhost:8080/"
        }
      },
      "source": [
        "# Type your code here\n",
        "string[0:2]=='if'"
      ],
      "execution_count": 6,
      "outputs": [
        {
          "output_type": "execute_result",
          "data": {
            "text/plain": [
              "False"
            ]
          },
          "metadata": {
            "tags": []
          },
          "execution_count": 6
        }
      ]
    },
    {
      "cell_type": "markdown",
      "metadata": {
        "id": "3JQCX24BhflX"
      },
      "source": [
        "#### Return the substring starting at index 63 and ending at index 88  [Both the indexes are inclusive]\n",
        "\n",
        "-  'OQYWFClFhFGA'\n",
        "-  'mCfgDYqbaBHAUvIWhMnvwZnEMV'\n",
        "-  'IWYwGKpmZhnJiyzTslSIhSwv'\n",
        "-  'JMEphzmifTkyqOMNpnOtXZ'"
      ]
    },
    {
      "cell_type": "code",
      "metadata": {
        "collapsed": true,
        "id": "qu54BDAahflY",
        "outputId": "331cf1d6-15f7-4032-89cf-c56506a6d13e",
        "colab": {
          "base_uri": "https://localhost:8080/",
          "height": 35
        }
      },
      "source": [
        "# Type your code here\n",
        "string[63:89]"
      ],
      "execution_count": 7,
      "outputs": [
        {
          "output_type": "execute_result",
          "data": {
            "application/vnd.google.colaboratory.intrinsic+json": {
              "type": "string"
            },
            "text/plain": [
              "'mCfgDYqbaBHAUvIWhMnvwZnEMV'"
            ]
          },
          "metadata": {
            "tags": []
          },
          "execution_count": 7
        }
      ]
    },
    {
      "cell_type": "markdown",
      "metadata": {
        "id": "rIa-_vBfhflY"
      },
      "source": [
        "#### Identify the character at index 45\n",
        "\n",
        "-  a\n",
        "-  b\n",
        "-  z\n",
        "-  x"
      ]
    },
    {
      "cell_type": "code",
      "metadata": {
        "id": "IUzjcN3yhflZ",
        "outputId": "c62e60a0-7165-4456-a0e8-b0fe8e5531f2",
        "colab": {
          "base_uri": "https://localhost:8080/",
          "height": 35
        }
      },
      "source": [
        "# Type your code here\n",
        "string[45]"
      ],
      "execution_count": 8,
      "outputs": [
        {
          "output_type": "execute_result",
          "data": {
            "application/vnd.google.colaboratory.intrinsic+json": {
              "type": "string"
            },
            "text/plain": [
              "'z'"
            ]
          },
          "metadata": {
            "tags": []
          },
          "execution_count": 8
        }
      ]
    },
    {
      "cell_type": "code",
      "metadata": {
        "collapsed": true,
        "id": "8a-Pc3LvhflZ"
      },
      "source": [
        ""
      ],
      "execution_count": null,
      "outputs": []
    }
  ]
}